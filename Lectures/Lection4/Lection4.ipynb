{
 "cells": [
  {
   "cell_type": "markdown",
   "id": "2b913df9-1264-4ad6-9580-7add824fc4f9",
   "metadata": {},
   "source": [
    "# **Лекция 4: функции и методы**\n",
    "\n",
    "## **План лекции**\n",
    "\n",
    "- Обсуждение плана лекции\n",
    "- Разбор задач из второго домашнего задания\n",
    "- Форматирование строк: `f`-строки и `.format()`\n",
    "    - Вопросы?\n",
    "- Считывание файлов в `python`\n",
    "- Разные режимы считывания файлов\n",
    "    - Вопросы?\n",
    "- Разбор разных задач (сколько успеем)"
   ]
  },
  {
   "cell_type": "markdown",
   "id": "991b17ee",
   "metadata": {},
   "source": [
    "## Разбор задач с семинара\n",
    "\n",
    "### ✨✨ Полный пипец\n",
    "\n",
    "Посчитайте значение формулы для любого натурального числа `n`:\n",
    "$$\n",
    "y = 4\\frac{(-1)^n}{2n+1}\n",
    "$$\n",
    "\n",
    "Сложите все `y` для `n` равных от нуля* до `10000`. Что за число получилось? "
   ]
  },
  {
   "cell_type": "markdown",
   "id": "62e597ef",
   "metadata": {},
   "source": [
    "<p>\n",
    "<details>\n",
    "<summary> <u> Считаем формулу для любого n </u> </summary>\n",
    "\n",
    "\n",
    "``` python\n",
    "n = 10\n",
    "y = 4*(-1)**n/(2*n+1)\n",
    "```\n",
    "    \n",
    "</details>\n",
    "</p>\n",
    "\n",
    "<p>\n",
    "<details>\n",
    "<summary> <u> Пишем цикл от нуля до n и считаем формулу на каждой итерации </u> </summary>\n",
    "\n",
    "\n",
    "``` python\n",
    "for n in range(0, 10000):\n",
    "    y = 4*(-1)**n/(2*n+1)\n",
    "    print(y)\n",
    "```\n",
    "\n",
    "</details>\n",
    "</p>\n",
    "\n",
    "<p>\n",
    "<details>\n",
    "<summary> <u> Складываем значения формулы для n равных от нуля до 10000 </u> </summary>\n",
    "\n",
    "\n",
    "``` python\n",
    "sum_y = 0\n",
    "for n in range(0, 10000):\n",
    "    y = 4*(-1)**n/(2*n+1)\n",
    "    sum_y += y\n",
    "print(sum_y)\n",
    "```\n",
    "\n",
    "</details>\n",
    "</p>"
   ]
  },
  {
   "cell_type": "code",
   "execution_count": 2,
   "id": "f18022c2",
   "metadata": {},
   "outputs": [
    {
     "name": "stdout",
     "output_type": "stream",
     "text": [
      "3.1414926535900345\n"
     ]
    }
   ],
   "source": [
    "sum_y = 0\n",
    "for n in range(0, 10000):\n",
    "    y = 4*(-1)**n/(2*n+1)\n",
    "    sum_y += y\n",
    "print(sum_y)"
   ]
  },
  {
   "cell_type": "code",
   "execution_count": 5,
   "id": "58a470a2",
   "metadata": {},
   "outputs": [
    {
     "name": "stdout",
     "output_type": "stream",
     "text": [
      "3.1415925535897915\n"
     ]
    }
   ],
   "source": [
    "sum_y = 0\n",
    "for n in range(0, 10000000):\n",
    "    y = 4*(-1)**n/(2*n+1)\n",
    "    sum_y += y\n",
    "print(sum_y)"
   ]
  },
  {
   "cell_type": "code",
   "execution_count": 16,
   "id": "909b9f4a",
   "metadata": {},
   "outputs": [],
   "source": [
    "# Наш код"
   ]
  },
  {
   "cell_type": "markdown",
   "id": "314893fb",
   "metadata": {},
   "source": [
    "### ✨✨ Самое большое простое число\n",
    "\n",
    "Студент Кирилл задумался: какое самое большое простое число в мире? Для того чтобы помочь ему ответить на этот вопрос, нужно сначала написать алгоритм, который находит все делители заданного числа."
   ]
  },
  {
   "cell_type": "markdown",
   "id": "5d2cd474",
   "metadata": {},
   "source": [
    "<p>\n",
    "<details>\n",
    "<summary> <u> Проверяем является число одно число делителем другого </u> </summary>\n",
    "\n",
    "\n",
    "``` python\n",
    "number = 15\n",
    "divisor = 4\n",
    "\n",
    "if number%divisor==0:\n",
    "    print('Число ' + str(divisor) + ' является делителем числа ' + str(number))\n",
    "else:\n",
    "    print('Число ' + str(divisor) + ' не является делителем числа ' + str(number))\n",
    "    \n",
    "```\n",
    "    \n",
    "</details>\n",
    "</p>\n",
    "\n",
    "<p>\n",
    "<details>\n",
    "<summary> <u> Пишем цикл от единицы (?) до числа (?) и проверяем находим все делители этого числа </u> </summary>\n",
    "\n",
    "\n",
    "``` python\n",
    "number = 15\n",
    "for divisor in range(1, number):\n",
    "    if number%divisor==0:\n",
    "        print('Число ' + str(divisor) + ' является делителем числа ' + str(number))\n",
    "```\n",
    "\n",
    "</details>\n",
    "</p>\n",
    "\n",
    "<p>\n",
    "<details>\n",
    "<summary> <u> Ищем количество делителей этого числа </u> </summary>\n",
    "\n",
    "\n",
    "``` python\n",
    "number = 15\n",
    "\n",
    "divisors_number = 0\n",
    "for divisor in range(1, number):\n",
    "    if number%divisor==0:\n",
    "        divisors_number += 1\n",
    "print('Количество делителей числа ' + str(number) + ': ' + str(divisors_number))\n",
    "```\n",
    "\n",
    "</details>\n",
    "</p>\n",
    "\n",
    "<p>\n",
    "<details>\n",
    "<summary> <u> Проверяем, простое ли это число </u> </summary>\n",
    "\n",
    "\n",
    "``` python\n",
    "number = 15\n",
    "\n",
    "divisors_number = 0\n",
    "for divisor in range(1, number):\n",
    "    if number%divisor==0:\n",
    "        divisors_number += 1\n",
    "print('Количество делителей числа ' + str(number) + ': ' + str(divisors_number))\n",
    "if divisors_number <= 1:\n",
    "    print('Число ' + str(number) + ' простое')\n",
    "else:\n",
    "    print('Число ' + str(number) + ' не простое')\n",
    "```\n",
    "\n",
    "</details>\n",
    "</p>"
   ]
  },
  {
   "cell_type": "code",
   "execution_count": 17,
   "id": "3e0d0dd0",
   "metadata": {},
   "outputs": [],
   "source": [
    "# Наш код"
   ]
  },
  {
   "cell_type": "markdown",
   "id": "d6ab1194",
   "metadata": {},
   "source": [
    "Выведите все простые числа от 1 до 10000:\n",
    "\n",
    "<p>\n",
    "<details>\n",
    "<summary> <u> Выводим все простые числа от 1 до 10000 </u> </summary>\n",
    "\n",
    "\n",
    "``` python\n",
    "for number in range(1, 10000):\n",
    "\n",
    "    divisors_number = 0\n",
    "    for divisor in range(1, number):\n",
    "        if number%divisor==0:\n",
    "            divisors_number += 1\n",
    "    print('Количество делителей числа ' + str(number) + ': ' + str(divisors_number))\n",
    "    if divisors_number <= 1:\n",
    "        print(number)\n",
    "```\n",
    "    \n",
    "</details>\n",
    "</p>\n"
   ]
  },
  {
   "cell_type": "code",
   "execution_count": null,
   "id": "4ec51d11",
   "metadata": {},
   "outputs": [],
   "source": [
    "# Наш код"
   ]
  },
  {
   "cell_type": "markdown",
   "id": "53be822e-6fba-4edf-adb9-0246cb397dc4",
   "metadata": {},
   "source": [
    "## **Более крутой способ форматировать строки**\n",
    "\n",
    "Вам не казалось что складывание строк через:\n",
    "``` python\n",
    "'Сегодня ' + str(degrees) + ' градусов по Цельсию' \n",
    "```\n",
    "немного громоздким? Это правда, и можно делать это более элегантно сразу тремя разными способами.\n",
    "\n",
    "### `f`-строки\n",
    "\n",
    "Добавив к строке до её начала `f` можно вставлять туда числовые значения:"
   ]
  },
  {
   "cell_type": "code",
   "execution_count": 77,
   "id": "8f4d5e51-bf5a-4966-8eae-b73c555cb93f",
   "metadata": {},
   "outputs": [
    {
     "name": "stdout",
     "output_type": "stream",
     "text": [
      "Сегодня в Москве 24.2 градуса по Цельсию\n"
     ]
    }
   ],
   "source": [
    "degrees = 24.2\n",
    "message = f'Сегодня в Москве {degrees} градуса по Цельсию' \n",
    "\n",
    "print(message)"
   ]
  },
  {
   "cell_type": "markdown",
   "id": "2a064bba-2487-4ae0-9945-65c6a526fffe",
   "metadata": {},
   "source": [
    "<p>\n",
    "<details>\n",
    "<summary> ☝ ✨ <u> f-строки можно использовать для нахождения багов </u> </summary>\n",
    "\n",
    "Можно выводить сразу с выражением `=` в процессе, и наиболее всего такая форма удобна для нахождения багов в коде, так как позволяет подсвечивать сразу названия переменных:\n",
    "\n",
    "``` python\n",
    "name = 'SCP-173'\n",
    "count = 13\n",
    "object_class = 'Euclid'\n",
    "print(f'Объект {name=} класса {object_class=} нарушал условия содержания {count=} раз')\n",
    "```\n",
    "> `Объект name='SCP-173' класса object_class='Euclid' нарушал условия содержания count=13`\n",
    "</details>\n",
    "</p>"
   ]
  },
  {
   "cell_type": "markdown",
   "id": "06389f07-cde3-4483-9083-c4cf42bcb608",
   "metadata": {},
   "source": [
    "### Метод `.format()`\n",
    "\n",
    "Очень похожий способ, проще всего проиллюстрировать его примером:"
   ]
  },
  {
   "cell_type": "code",
   "execution_count": 71,
   "id": "da1c3cd9-998b-40f7-93a0-2140021ed4d6",
   "metadata": {},
   "outputs": [
    {
     "name": "stdout",
     "output_type": "stream",
     "text": [
      "Биба и Боба\n"
     ]
    }
   ],
   "source": [
    "print('{person1} и {person2}'.format(person1='Биба', person2='Боба'))"
   ]
  },
  {
   "cell_type": "markdown",
   "id": "f8a1b33c-c073-4511-92a3-b7829351cb0f",
   "metadata": {},
   "source": [
    "Большой разницы в этих способах нету, можно спокойно использовать и то и то."
   ]
  },
  {
   "cell_type": "markdown",
   "id": "e3b7c7c4-37cd-4a38-9a61-8fbca368ef76",
   "metadata": {},
   "source": [
    "### Через оператор `%`\n",
    "\n",
    "Раньше основным способом был:"
   ]
  },
  {
   "cell_type": "code",
   "execution_count": 90,
   "id": "7d65c038-d276-4cf8-8165-9ebc845ca0cf",
   "metadata": {},
   "outputs": [
    {
     "name": "stdout",
     "output_type": "stream",
     "text": [
      "Значения числа π примерно равно 3.142.\n"
     ]
    }
   ],
   "source": [
    "pi = 3.141592653589793 # и так далее\n",
    "\n",
    "print('Значения числа π примерно равно %5.3f.' % pi)"
   ]
  },
  {
   "cell_type": "markdown",
   "id": "36348142-c321-4f4a-bcad-f44c42e06ae8",
   "metadata": {},
   "source": [
    "Но сейчас его почти не используют, чтобы не путать с оператором остатка от деления, да `f`-строки просто более читаемые."
   ]
  },
  {
   "cell_type": "markdown",
   "id": "1480cea3-a082-4b8e-9ee5-0d2781b1f9f5",
   "metadata": {},
   "source": [
    "<p>\n",
    "<details>\n",
    "<summary> ☝ ✨ <u> Что за 5.3f? </u> </summary>\n",
    "\n",
    "Это формативанный вывод (или ввод). Раньше, в низкоуровневых языках (`C` или `FORTRAN`) вывод мог быть только с указанием типа переменной (`f` - float) и длиной поля. Первое число до (5) означает полное количество знаков, которое будет занято выводом числа, а второе число (3) означает число выведенных знаков после запятой. \n",
    "\n",
    "Может показаться, что это уже очень устаревшая форма записи, однако иногда данные записаны именно в таком виде: они не разделяются запятыми или пробелами, а имеют фиксированную длину поля. Зато, зная форму записи, можно всегда легко прочитать данные и не ошибиться!\n",
    "\n",
    "</details>\n",
    "</p>"
   ]
  },
  {
   "cell_type": "markdown",
   "id": "61c0e588-de04-4bd8-93b4-bde7d41d5c4b",
   "metadata": {},
   "source": [
    "# **Работа с файлами в python**\n",
    "\n",
    "До этого мы хранили всю информацию в строчках кода. В реальности, все данные всегда хранятся в файлах! Давайте разберем как их считывать и что с ним делать.\n",
    "\n",
    "Простейший способ открытия текстового файла выглядит так: "
   ]
  },
  {
   "cell_type": "code",
   "execution_count": 78,
   "id": "37e1cdcc-3a31-41f5-9de4-eb39f3af8ff4",
   "metadata": {},
   "outputs": [
    {
     "name": "stdout",
     "output_type": "stream",
     "text": [
      "Moscow 55.7558 37.6178\n",
      "SaintPetersburg 59.9500 30.3167\n",
      "Novosibirsk 55.0333 82.9167\n",
      "Yekaterinburg 56.8356 60.6128\n",
      "NizhniyNovgorod 56.3269 44.0075\n",
      "Kazan 55.7964 49.1089\n",
      "Chelyabinsk 55.1500 61.4000\n",
      "Omsk 54.9667 73.3833\n",
      "Samara 53.2028 50.1408\n",
      "Rostov 47.2333 39.7000\n",
      "Ufa 54.7261 55.9475\n",
      "Krasnoyarsk 56.0089 92.8719\n",
      "Voronezh 51.6717 39.2106\n",
      "Perm 58.0139 56.2489\n",
      "Volgograd 48.7086 44.5147\n",
      "\n"
     ]
    }
   ],
   "source": [
    "f = open('data/russian_cities.txt')\n",
    "russian_cities = f.read()\n",
    "f.close()\n",
    "\n",
    "print(russian_cities) # данные с координатами Российских городов"
   ]
  },
  {
   "cell_type": "markdown",
   "id": "f2c7d6a0-9c01-4ce9-a57d-7042191742ae",
   "metadata": {},
   "source": [
    "Каждый раз открывая файл мы создаем специальную переменную *файлового потока*. После использования файла, эту переменную нужно закрыть, иначе могут возникнуть [разные неприятные последствия](https://stackoverflow.com/questions/25070854/why-should-i-close-files-in-python). Часть люди забывают закрывать файл, да и выглядит это не очень читаемо, поэтому была придумана следующая схема:"
   ]
  },
  {
   "cell_type": "code",
   "execution_count": 81,
   "id": "3b582e95-644c-45e3-a0d2-86a157ea90fe",
   "metadata": {},
   "outputs": [
    {
     "name": "stdout",
     "output_type": "stream",
     "text": [
      "Moscow 55.7558 37.6178\n",
      "SaintPetersburg 59.9500 30.3167\n",
      "Novosibirsk 55.0333 82.9167\n",
      "Yekaterinburg 56.8356 60.6128\n",
      "NizhniyNovgorod 56.3269 44.0075\n",
      "Kazan 55.7964 49.1089\n",
      "Chelyabinsk 55.1500 61.4000\n",
      "Omsk 54.9667 73.3833\n",
      "Samara 53.2028 50.1408\n",
      "Rostov 47.2333 39.7000\n",
      "Ufa 54.7261 55.9475\n",
      "Krasnoyarsk 56.0089 92.8719\n",
      "Voronezh 51.6717 39.2106\n",
      "Perm 58.0139 56.2489\n",
      "Volgograd 48.7086 44.5147\n",
      "\n"
     ]
    }
   ],
   "source": [
    "with open('data/russian_cities.txt') as f:\n",
    "    russian_cities = f.read()\n",
    "\n",
    "print(russian_cities) # данные с координатами Российских городов"
   ]
  },
  {
   "cell_type": "markdown",
   "id": "ffee1319-eefb-45b9-bbc0-af9d32ff924b",
   "metadata": {},
   "source": [
    "Она закрывает файл сразу же окончания отступа.\n",
    "\n",
    "> ☝ Строго говоря, ключевое слово `with` используется и для [других целей](https://stackoverflow.com/questions/3012488/what-is-the-python-with-statement-designed-for), но в абсолютном большинстве случаев его используют именно для открытия/закрытия файлов."
   ]
  },
  {
   "cell_type": "markdown",
   "id": "c78cd821-737e-48e8-9f3f-b79eff1401ae",
   "metadata": {},
   "source": [
    "Теперь посмотрим на разные методы для считывания файлов:\n",
    "- `.read()` считывает файл полностью в виде строки\n",
    "- `.readline()` считывает только одну строку и сохраняет положение курсора: если вызвать еще раз, то считает уже следующую строку\n",
    "- `.readlines()` считывает все строки и записывает в массив: каждый элемент массива это новая строка "
   ]
  },
  {
   "cell_type": "code",
   "execution_count": 82,
   "id": "e9c87f31-af54-4e6b-a18d-ffc4c176199d",
   "metadata": {},
   "outputs": [
    {
     "name": "stdout",
     "output_type": "stream",
     "text": [
      "['Moscow 55.7558 37.6178\\n', 'SaintPetersburg 59.9500 30.3167\\n', 'Novosibirsk 55.0333 82.9167\\n', 'Yekaterinburg 56.8356 60.6128\\n', 'NizhniyNovgorod 56.3269 44.0075\\n', 'Kazan 55.7964 49.1089\\n', 'Chelyabinsk 55.1500 61.4000\\n', 'Omsk 54.9667 73.3833\\n', 'Samara 53.2028 50.1408\\n', 'Rostov 47.2333 39.7000\\n', 'Ufa 54.7261 55.9475\\n', 'Krasnoyarsk 56.0089 92.8719\\n', 'Voronezh 51.6717 39.2106\\n', 'Perm 58.0139 56.2489\\n', 'Volgograd 48.7086 44.5147\\n']\n"
     ]
    }
   ],
   "source": [
    "with open('data/russian_cities.txt') as f:\n",
    "    russian_cities = f.readlines()\n",
    "\n",
    "print(russian_cities) "
   ]
  },
  {
   "cell_type": "markdown",
   "id": "71d80b27-b0f7-4500-93d1-a5a45a99ff6c",
   "metadata": {},
   "source": [
    "> ☝ Символ `\\n` обозначает начало новой строки, а сам механизм разделения строк может работать немного по разному на разных системах\n",
    "\n",
    "При желании, мы можем сделать (почти) то же самое с помощью:"
   ]
  },
  {
   "cell_type": "code",
   "execution_count": 84,
   "id": "a986bc32-650d-4c64-bfb3-295d461d706b",
   "metadata": {},
   "outputs": [
    {
     "name": "stdout",
     "output_type": "stream",
     "text": [
      "['Moscow 55.7558 37.6178', 'SaintPetersburg 59.9500 30.3167', 'Novosibirsk 55.0333 82.9167', 'Yekaterinburg 56.8356 60.6128', 'NizhniyNovgorod 56.3269 44.0075', 'Kazan 55.7964 49.1089', 'Chelyabinsk 55.1500 61.4000', 'Omsk 54.9667 73.3833', 'Samara 53.2028 50.1408', 'Rostov 47.2333 39.7000', 'Ufa 54.7261 55.9475', 'Krasnoyarsk 56.0089 92.8719', 'Voronezh 51.6717 39.2106', 'Perm 58.0139 56.2489', 'Volgograd 48.7086 44.5147', '']\n"
     ]
    }
   ],
   "source": [
    "with open('data/russian_cities.txt') as f:\n",
    "    russian_cities = f.read()\n",
    "    russian_cities_lines = russian_cities.split('\\n')\n",
    "\n",
    "print(russian_cities_lines) "
   ]
  },
  {
   "cell_type": "markdown",
   "id": "4e19d869-c8fb-4235-bdcd-5ba17dd0cf32",
   "metadata": {},
   "source": [
    "### Запись в файлы\n",
    "\n",
    "Для того, чтобы записывать строчки в файл, нужно использовать другой режим:"
   ]
  },
  {
   "cell_type": "code",
   "execution_count": 98,
   "id": "4e02a541-4d04-4227-9329-f396df914b15",
   "metadata": {},
   "outputs": [
    {
     "name": "stdout",
     "output_type": "stream",
     "text": [
      "Moscow 55.7558 37.6178\n",
      "SaintPetersburg 59.9500 30.3167\n",
      "Novosibirsk 55.0333 82.9167\n",
      "Yekaterinburg 56.8356 60.6128\n",
      "NizhniyNovgorod 56.3269 44.0075\n",
      "Kazan 55.7964 49.1089\n",
      "Chelyabinsk 55.1500 61.4000\n",
      "Omsk 54.9667 73.3833\n",
      "Samara 53.2028 50.1408\n",
      "Rostov 47.2333 39.7000\n",
      "Ufa 54.7261 55.9475\n",
      "Krasnoyarsk 56.0089 92.8719\n",
      "Voronezh 51.6717 39.2106\n",
      "Perm 58.0139 56.2489\n",
      "Volgograd 48.7086 44.5147\n"
     ]
    }
   ],
   "source": [
    "with open('data/duplicate_cities.txt', mode='w') as f:\n",
    "    f.write(russian_cities)\n",
    "\n",
    "%cat data/duplicate_cities.txt # лайфхак для вывода (может не работать на Windows)"
   ]
  },
  {
   "cell_type": "markdown",
   "id": "0f199ef1-c869-445c-996b-8db4c97f5dfa",
   "metadata": {},
   "source": [
    "В целом, все очень похоже:\n",
    "- `.write()` запишет всю строку в текстовый файл\n",
    "- `.writelines()` запишет список из строк построчно в файл"
   ]
  },
  {
   "cell_type": "markdown",
   "id": "b308ebc8-8854-45c9-afb8-bd4af41bdc01",
   "metadata": {},
   "source": [
    "# **Вопросы?**"
   ]
  },
  {
   "cell_type": "markdown",
   "id": "b67c1eb9",
   "metadata": {},
   "source": [
    "## Разбираем задачи\n",
    "\n",
    "### Котик ватру4шка 12вареник?\n",
    "\n",
    "- Считываются строки через пробел до тех пор пока не введен `0`\n",
    "- Для каждой вводимой строки сделать проверку: если она состоит только из букв и ее длина менее 7 символов, то ее нужно добавить в список\n",
    "- Напечатать получишийся список"
   ]
  },
  {
   "cell_type": "code",
   "execution_count": null,
   "id": "23778afb",
   "metadata": {},
   "outputs": [],
   "source": [
    "input1 = 'котик ватру4шка 12вареник? 14623 морковка лук вода подушка лупа 0'\n",
    "input2 = '129 морковка1 морковка2 луковка0 редиска12 0'\n",
    "\n",
    "# Наш код "
   ]
  },
  {
   "cell_type": "markdown",
   "id": "793a9105",
   "metadata": {},
   "source": [
    "### Что-то не так (или так?)"
   ]
  },
  {
   "cell_type": "markdown",
   "id": "690b07bf",
   "metadata": {},
   "source": [
    "- На первой строке вводится слово\n",
    "- Затем вводится последовательность букв\n",
    "- Программа должна проверить, что слово начинается с введенной последовательности и ее длина больше 5 символов, то напечтать \"подходит\""
   ]
  },
  {
   "cell_type": "code",
   "execution_count": null,
   "id": "98773608",
   "metadata": {},
   "outputs": [],
   "source": [
    "input1 = 'лисичка'\n",
    "input2 = 'ли'"
   ]
  }
 ],
 "metadata": {
  "kernelspec": {
   "display_name": "Python 3 (ipykernel)",
   "language": "python",
   "name": "python3"
  },
  "language_info": {
   "codemirror_mode": {
    "name": "ipython",
    "version": 3
   },
   "file_extension": ".py",
   "mimetype": "text/x-python",
   "name": "python",
   "nbconvert_exporter": "python",
   "pygments_lexer": "ipython3",
   "version": "3.11.5"
  }
 },
 "nbformat": 4,
 "nbformat_minor": 5
}
