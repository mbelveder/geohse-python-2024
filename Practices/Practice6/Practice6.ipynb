{
 "cells": [
  {
   "cell_type": "markdown",
   "id": "9ae32bec",
   "metadata": {},
   "source": [
    "# **Практическое занятие 6: знакомимся с `numpy`**\n",
    "\n",
    "## **План занятия**\n",
    "\n",
    "- Обсуждение плана занятия\n",
    "- Повторение лекции\n",
    "- Самостоятельная работа + вопросы"
   ]
  },
  {
   "cell_type": "markdown",
   "id": "2ed6d19b",
   "metadata": {},
   "source": [
    "# Модуль `numpy`\n",
    "\n",
    "Перед работой с `numpy` его всегда необходимо импортировать:"
   ]
  },
  {
   "cell_type": "code",
   "execution_count": 9,
   "id": "307cc3c9",
   "metadata": {},
   "outputs": [],
   "source": [
    "import numpy as np"
   ]
  },
  {
   "cell_type": "markdown",
   "id": "15577190",
   "metadata": {},
   "source": [
    "Основу `numpy` составляют `ndarray` &ndash; класс (тип) данных, в котором можно удобно хранить многомерные массивы данных. Их можно создать несколькими разными способами. Самый простой &ndash; из списка:"
   ]
  },
  {
   "cell_type": "code",
   "execution_count": 2,
   "id": "a07cef8e",
   "metadata": {},
   "outputs": [
    {
     "name": "stdout",
     "output_type": "stream",
     "text": [
      "[1 2 3 4 5 6] <class 'numpy.ndarray'>\n"
     ]
    }
   ],
   "source": [
    "example = np.array([1, 2, 3, 4, 5, 6])\n",
    "print(example, type(example))"
   ]
  },
  {
   "cell_type": "markdown",
   "id": "0e4c0570",
   "metadata": {},
   "source": [
    "Другие способы создать массив (шаблоны):"
   ]
  },
  {
   "cell_type": "code",
   "execution_count": 3,
   "id": "c23ed466",
   "metadata": {},
   "outputs": [
    {
     "name": "stdout",
     "output_type": "stream",
     "text": [
      "Нолики: \n",
      "[[0. 0. 0.]\n",
      " [0. 0. 0.]\n",
      " [0. 0. 0.]]\n",
      "ones:\n",
      "[[1. 1. 1.]\n",
      " [1. 1. 1.]\n",
      " [1. 1. 1.]]\n",
      "Arange с началом (1), концом (10) и шагом (0.1):\n",
      "[1.  1.1 1.2 1.3 1.4 1.5 1.6 1.7 1.8 1.9 2.  2.1 2.2 2.3 2.4 2.5 2.6 2.7\n",
      " 2.8 2.9 3.  3.1 3.2 3.3 3.4 3.5 3.6 3.7 3.8 3.9 4.  4.1 4.2 4.3 4.4 4.5\n",
      " 4.6 4.7 4.8 4.9 5.  5.1 5.2 5.3 5.4 5.5 5.6 5.7 5.8 5.9 6.  6.1 6.2 6.3\n",
      " 6.4 6.5 6.6 6.7 6.8 6.9 7.  7.1 7.2 7.3 7.4 7.5 7.6 7.7 7.8 7.9 8.  8.1\n",
      " 8.2 8.3 8.4 8.5 8.6 8.7 8.8 8.9 9.  9.1 9.2 9.3 9.4 9.5 9.6 9.7 9.8 9.9]\n"
     ]
    }
   ],
   "source": [
    "print('Нолики: ')\n",
    "print(np.zeros([3, 3])) # в качестве аргумента указываем СПИСОК с размером\n",
    "                        # np.zeros(3, 3) не сработает!\n",
    "\n",
    "print('ones:')\n",
    "print(np.ones([3, 3]))\n",
    "\n",
    "print('Arange с началом (1), концом (10) и шагом (0.1):')\n",
    "print(np.arange(1, 10, 0.1))"
   ]
  },
  {
   "cell_type": "markdown",
   "id": "13664b4a",
   "metadata": {},
   "source": [
    "`np.linspace` позволяет создавать массивы фиксированной длины (с равным промежутком между числами). Очень полезная функция:"
   ]
  },
  {
   "cell_type": "code",
   "execution_count": 4,
   "id": "3bc6f8e3",
   "metadata": {
    "scrolled": true
   },
   "outputs": [
    {
     "name": "stdout",
     "output_type": "stream",
     "text": [
      "[0.         0.03173326 0.06346652 0.09519978 0.12693304 0.1586663\n",
      " 0.19039955 0.22213281 0.25386607 0.28559933 0.31733259 0.34906585\n",
      " 0.38079911 0.41253237 0.44426563 0.47599889 0.50773215 0.53946541\n",
      " 0.57119866 0.60293192 0.63466518 0.66639844 0.6981317  0.72986496\n",
      " 0.76159822 0.79333148 0.82506474 0.856798   0.88853126 0.92026451\n",
      " 0.95199777 0.98373103 1.01546429 1.04719755 1.07893081 1.11066407\n",
      " 1.14239733 1.17413059 1.20586385 1.23759711 1.26933037 1.30106362\n",
      " 1.33279688 1.36453014 1.3962634  1.42799666 1.45972992 1.49146318\n",
      " 1.52319644 1.5549297  1.58666296 1.61839622 1.65012947 1.68186273\n",
      " 1.71359599 1.74532925 1.77706251 1.80879577 1.84052903 1.87226229\n",
      " 1.90399555 1.93572881 1.96746207 1.99919533 2.03092858 2.06266184\n",
      " 2.0943951  2.12612836 2.15786162 2.18959488 2.22132814 2.2530614\n",
      " 2.28479466 2.31652792 2.34826118 2.37999443 2.41172769 2.44346095\n",
      " 2.47519421 2.50692747 2.53866073 2.57039399 2.60212725 2.63386051\n",
      " 2.66559377 2.69732703 2.72906028 2.76079354 2.7925268  2.82426006\n",
      " 2.85599332 2.88772658 2.91945984 2.9511931  2.98292636 3.01465962\n",
      " 3.04639288 3.07812614 3.10985939 3.14159265]\n"
     ]
    }
   ],
   "source": [
    "print(np.linspace(0, np.pi, 100))"
   ]
  },
  {
   "cell_type": "markdown",
   "id": "abf4f884",
   "metadata": {},
   "source": [
    "### Поэлементное умножение\n",
    "\n",
    "- Если мы умножаем число на `ndarray`, то умножается весь массив. То же самое работает для всех других математических операций\n",
    "- Если мы умножаем друг на друга `ndarray` **одинаковой длины**, то умножается каждый элемент одного массива на каждый элемент другого массива. Это же касается других математических операций.\n",
    "\n",
    "Примеры:"
   ]
  },
  {
   "cell_type": "code",
   "execution_count": 5,
   "id": "a1af054b",
   "metadata": {},
   "outputs": [
    {
     "name": "stdout",
     "output_type": "stream",
     "text": [
      "Умножаем массив на число:\n",
      "Массив a = [1 2 3 4 5 6 7 8 9]\n",
      "Массив a * 2 = [ 2  4  6  8 10 12 14 16 18]\n",
      "\n",
      "Массив b = [1 2 3 4 5 6 7 8 9]\n",
      "Результат умножения a * b = [ 1  4  9 16 25 36 49 64 81]\n",
      "\n",
      "Результат сложения a + b = [ 2  4  6  8 10 12 14 16 18]\n",
      "\n",
      "Результат деления a/b = [1. 1. 1. 1. 1. 1. 1. 1. 1.]\n"
     ]
    }
   ],
   "source": [
    "a = np.arange(1, 10)\n",
    "print('Умножаем массив на число:')\n",
    "print(f'Массив a = {a}')\n",
    "print(f'Массив a * 2 = {a*2}\\n')\n",
    "\n",
    "b = np.arange(1, 10)\n",
    "print(f'Массив b = {b}')\n",
    "print(f'Результат умножения a * b = {a*b}\\n')\n",
    "\n",
    "print(f'Результат сложения a + b = {a+b}\\n')\n",
    "\n",
    "print(f'Результат деления a/b = {a/b}')"
   ]
  },
  {
   "cell_type": "markdown",
   "id": "022d03bb",
   "metadata": {},
   "source": [
    "Не получится перемножить массивы разной длины друг на друга:"
   ]
  },
  {
   "cell_type": "code",
   "execution_count": 6,
   "id": "fde9cdf2",
   "metadata": {},
   "outputs": [
    {
     "ename": "ValueError",
     "evalue": "operands could not be broadcast together with shapes (10,) (5,) ",
     "output_type": "error",
     "traceback": [
      "\u001b[0;31m---------------------------------------------------------------------------\u001b[0m",
      "\u001b[0;31mValueError\u001b[0m                                Traceback (most recent call last)",
      "Cell \u001b[0;32mIn[6], line 3\u001b[0m\n\u001b[1;32m      1\u001b[0m array_len_10 \u001b[38;5;241m=\u001b[39m np\u001b[38;5;241m.\u001b[39marange(\u001b[38;5;241m10\u001b[39m)\n\u001b[1;32m      2\u001b[0m array_len_5 \u001b[38;5;241m=\u001b[39m np\u001b[38;5;241m.\u001b[39marange(\u001b[38;5;241m5\u001b[39m)\n\u001b[0;32m----> 3\u001b[0m array_len_10\u001b[38;5;241m*\u001b[39marray_len_5\n",
      "\u001b[0;31mValueError\u001b[0m: operands could not be broadcast together with shapes (10,) (5,) "
     ]
    }
   ],
   "source": [
    "array_len_10 = np.arange(10)\n",
    "array_len_5 = np.arange(5)\n",
    "array_len_10*array_len_5"
   ]
  },
  {
   "cell_type": "markdown",
   "id": "ee84659d",
   "metadata": {},
   "source": [
    "Мы можем узнать информацию о массивах с помощью следующих комманд:"
   ]
  },
  {
   "cell_type": "code",
   "execution_count": 7,
   "id": "2799cf16",
   "metadata": {},
   "outputs": [
    {
     "name": "stdout",
     "output_type": "stream",
     "text": [
      "Размер массива аrray_len_10 = (10,)\n",
      "Длина массива аrray_len_10 = 10\n",
      "\n",
      "Матрица zeros: \n",
      "[[0. 0. 0.]\n",
      " [0. 0. 0.]\n",
      " [0. 0. 0.]]\n",
      "Размер матрицы zeros = (3, 3)\n",
      "Количество измерений матрицы zeros = 2\n"
     ]
    }
   ],
   "source": [
    "print(f'Размер массива аrray_len_10 = {array_len_10.shape}') # размер массива\n",
    "print(f'Длина массива аrray_len_10 = {len(array_len_10)}\\n') # работает и функция len!\n",
    "\n",
    "zeros = np.zeros([3, 3])\n",
    "print(f'Матрица zeros: \\n{zeros}')\n",
    "print(f'Размер матрицы zeros = {zeros.shape}')\n",
    "\n",
    "print(f'Количество измерений матрицы zeros = {zeros.ndim}') # то же самое что len(zeros.shape)"
   ]
  },
  {
   "cell_type": "markdown",
   "id": "684b6731",
   "metadata": {},
   "source": [
    "## Базовое индексирование массивов `numpy`\n",
    "\n",
    "Посмотрим на базовые примеры работы с матрицами и векторами. Индексирование вектора (одномерного массива) очень похоже на индексирование списков. А вот индексирование матриц немного отличается.\n",
    "\n",
    "Синтаксис:\n",
    "- `A[i, j]` - элемент в `i`-ой строчке и в `j`-ом столбце.\n",
    "- `A[0, 0]` - элемент на строчке `0` и столбце `0`\n",
    "- `A[:, 0]` - нулевой столбец\n",
    "- `A[0, :]` - нулевая строчка"
   ]
  },
  {
   "cell_type": "code",
   "execution_count": 8,
   "id": "936e9f30",
   "metadata": {},
   "outputs": [
    {
     "name": "stdout",
     "output_type": "stream",
     "text": [
      "A[0, 0] = 1\n",
      "Нулевой столбец: A[:, 0] = [1 2 3]\n",
      "Нулевая строчка: A[0, :] = [1 1 1]\n"
     ]
    }
   ],
   "source": [
    "A = np.array([[1, 1, 1],\n",
    "              [2, 2, 2],\n",
    "              [3, 3 ,3]])\n",
    "\n",
    "print(f'A[0, 0] = {A[0, 0]}')\n",
    "print(f'Нулевой столбец: A[:, 0] = {A[:, 0]}')\n",
    "print(f'Нулевая строчка: A[0, :] = {A[0, :]}')"
   ]
  },
  {
   "cell_type": "markdown",
   "id": "b0098c37",
   "metadata": {},
   "source": [
    "# Базовая статистика в `numpy`\n",
    "\n",
    "Для работы со случайными величина есть целый подмодуль `random`. Посмотрим на случайную величину с постоянной плотностью вероятности:"
   ]
  },
  {
   "cell_type": "code",
   "execution_count": 9,
   "id": "d90d7e4e",
   "metadata": {},
   "outputs": [
    {
     "name": "stdout",
     "output_type": "stream",
     "text": [
      "Случайная величина, распредленная равномерно на отрезке от нуля до единицы:\n",
      "0.8024946501472534\n",
      "\n",
      "Вектор таких случайных величин длины 10:\n",
      "[0.49798905 0.81671605 0.33451346 0.20070266 0.15475378 0.41043828\n",
      " 0.48990556 0.85443668 0.68680268 0.30719935]\n",
      "\n",
      "Матрица таких случайных величин размера (5, 5):\n",
      "[[0.89213342 0.23170027 0.06099735 0.7023175  0.58306177]\n",
      " [0.7017113  0.60903751 0.47050798 0.41624317 0.33825438]\n",
      " [0.83293234 0.53270834 0.38070268 0.20068628 0.83060848]\n",
      " [0.30500831 0.6224641  0.14818575 0.77367042 0.64621807]\n",
      " [0.47700893 0.53734291 0.04428594 0.19216156 0.05833328]]\n",
      "\n",
      "Случайная величина, распредленная равномерно на отрезке от -0.5 до 0.5:\n",
      "0.34759153519369257\n",
      "\n",
      "Случайная величина, распредленная равномерно на отрезке от 0 до 10:\n",
      "7.541705706753044\n"
     ]
    }
   ],
   "source": [
    "print(f'Случайная величина, распредленная равномерно на отрезке от нуля до единицы:')\n",
    "print(np.random.rand())\n",
    "\n",
    "print(f'\\nВектор таких случайных величин длины 10:')\n",
    "print(np.random.rand(10))\n",
    "\n",
    "print(f'\\nМатрица таких случайных величин размера (5, 5):')\n",
    "print(np.random.rand(5, 5))\n",
    "\n",
    "print(f'\\nСлучайная величина, распредленная равномерно на отрезке от -0.5 до 0.5:')\n",
    "print(np.random.rand() - 0.5)\n",
    "\n",
    "print(f'\\nСлучайная величина, распредленная равномерно на отрезке от 0 до 10:')\n",
    "print(np.random.rand()*10)"
   ]
  },
  {
   "cell_type": "markdown",
   "id": "a629f370",
   "metadata": {},
   "source": [
    "Посмотрим на нормально распредленные случайные величины:"
   ]
  },
  {
   "cell_type": "code",
   "execution_count": 11,
   "id": "1f1fb286",
   "metadata": {},
   "outputs": [
    {
     "name": "stdout",
     "output_type": "stream",
     "text": [
      "Случайная величина, распредленная нормально с матожиданием 0 и стандартным отклонением 1:\n",
      "-0.3118208603863645\n",
      "\n",
      "Вектор таких случайных величин длины 10:\n",
      "[ 0.77551783  1.95435764  0.13176025 -0.47646426 -0.12360973 -0.63490003\n",
      " -0.09824641 -0.31770425 -0.70111408  2.25449703]\n",
      "\n",
      "Матрица таких случайных величин размера (5, 5):\n",
      "[[ 0.98217739 -0.37812497  1.2592599   1.17403765  0.85382991]\n",
      " [-0.63475729 -1.08784007  0.94832482 -0.42569571 -1.12719644]\n",
      " [ 1.25826538 -2.00096793 -0.34914963 -0.78733353  0.33934008]\n",
      " [-2.16526895  0.29873609 -1.29538204  0.53587143 -0.79473735]\n",
      " [-0.75771544 -0.40709829 -0.37582232 -0.36899508  1.05400143]]\n",
      "\n",
      "Случайная величина, с матожиданием 5 и стандартным отклонением 1:\n",
      "4.542960535173766\n",
      "\n",
      "Случайная величина, с матожиданием 0 и стандартным отклонением 10:\n",
      "-2.914828706047772\n"
     ]
    }
   ],
   "source": [
    "print(f'Случайная величина, распредленная нормально с матожиданием 0 и стандартным отклонением 1:')\n",
    "print(np.random.randn()) # обратите внимание, randn, добавилась n в конце\n",
    "\n",
    "print(f'\\nВектор таких случайных величин длины 10:')\n",
    "print(np.random.randn(10))\n",
    "\n",
    "print(f'\\nМатрица таких случайных величин размера (5, 5):')\n",
    "print(np.random.randn(5, 5))\n",
    "\n",
    "print(f'\\nСлучайная величина, с матожиданием 5 и стандартным отклонением 1:')\n",
    "print(np.random.randn() + 5)\n",
    "\n",
    "print(f'\\nСлучайная величина, с матожиданием 0 и стандартным отклонением 10:')\n",
    "print(np.random.randn()*10 + 0)"
   ]
  },
  {
   "cell_type": "markdown",
   "id": "762c159c",
   "metadata": {},
   "source": [
    "# Семинарские задания и домашние задания (6 баллов)"
   ]
  },
  {
   "cell_type": "markdown",
   "id": "263155f4",
   "metadata": {},
   "source": [
    "## Здравствуйте почему у меня ошибка в коде\n",
    "\n",
    "**(0.5 балла)** Почему может быть ошибка в следующей ячейке?"
   ]
  },
  {
   "cell_type": "code",
   "execution_count": 14,
   "id": "4f597fc6",
   "metadata": {},
   "outputs": [
    {
     "ename": "NameError",
     "evalue": "name 'numpy' is not defined",
     "output_type": "error",
     "traceback": [
      "\u001b[0;31m---------------------------------------------------------------------------\u001b[0m",
      "\u001b[0;31mNameError\u001b[0m                                 Traceback (most recent call last)",
      "Cell \u001b[0;32mIn[14], line 2\u001b[0m\n\u001b[1;32m      1\u001b[0m \u001b[38;5;28;01mimport\u001b[39;00m \u001b[38;5;21;01mnumpy\u001b[39;00m \u001b[38;5;28;01mas\u001b[39;00m \u001b[38;5;21;01mnp\u001b[39;00m\n\u001b[0;32m----> 2\u001b[0m \u001b[38;5;28mprint\u001b[39m(numpy\u001b[38;5;241m.\u001b[39mzeros(\u001b[38;5;241m10\u001b[39m))\n",
      "\u001b[0;31mNameError\u001b[0m: name 'numpy' is not defined"
     ]
    }
   ],
   "source": [
    "import numpy as np\n",
    "print(numpy.zeros(10))"
   ]
  },
  {
   "cell_type": "markdown",
   "id": "b46fd429",
   "metadata": {},
   "source": [
    "**(0.75 балла)** А в этой?"
   ]
  },
  {
   "cell_type": "code",
   "execution_count": 12,
   "id": "f003afb4",
   "metadata": {},
   "outputs": [
    {
     "ename": "TypeError",
     "evalue": "array() takes from 1 to 2 positional arguments but 3 were given",
     "output_type": "error",
     "traceback": [
      "\u001b[0;31m---------------------------------------------------------------------------\u001b[0m",
      "\u001b[0;31mTypeError\u001b[0m                                 Traceback (most recent call last)",
      "Cell \u001b[0;32mIn[12], line 1\u001b[0m\n\u001b[0;32m----> 1\u001b[0m example \u001b[38;5;241m=\u001b[39m np\u001b[38;5;241m.\u001b[39marray([\u001b[38;5;241m1\u001b[39m, \u001b[38;5;241m2\u001b[39m, \u001b[38;5;241m3\u001b[39m],\n\u001b[1;32m      2\u001b[0m                    [\u001b[38;5;241m4\u001b[39m, \u001b[38;5;241m5\u001b[39m, \u001b[38;5;241m6\u001b[39m],\n\u001b[1;32m      3\u001b[0m                    [\u001b[38;5;241m7\u001b[39m, \u001b[38;5;241m8\u001b[39m, \u001b[38;5;241m9\u001b[39m])\n",
      "\u001b[0;31mTypeError\u001b[0m: array() takes from 1 to 2 positional arguments but 3 were given"
     ]
    }
   ],
   "source": [
    "example = np.array([1, 2, 3],\n",
    "                   [4, 5, 6],\n",
    "                   [7, 8, 9])"
   ]
  },
  {
   "cell_type": "markdown",
   "id": "d7fffb66",
   "metadata": {},
   "source": [
    "**(0.75 балла)** А с этой что не так?"
   ]
  },
  {
   "cell_type": "code",
   "execution_count": 15,
   "id": "60105edb",
   "metadata": {},
   "outputs": [
    {
     "ename": "TypeError",
     "evalue": "Cannot interpret '3' as a data type",
     "output_type": "error",
     "traceback": [
      "\u001b[0;31m---------------------------------------------------------------------------\u001b[0m",
      "\u001b[0;31mTypeError\u001b[0m                                 Traceback (most recent call last)",
      "Cell \u001b[0;32mIn[15], line 1\u001b[0m\n\u001b[0;32m----> 1\u001b[0m \u001b[38;5;28mprint\u001b[39m(np\u001b[38;5;241m.\u001b[39mzeros(\u001b[38;5;241m3\u001b[39m, \u001b[38;5;241m3\u001b[39m))\n",
      "\u001b[0;31mTypeError\u001b[0m: Cannot interpret '3' as a data type"
     ]
    }
   ],
   "source": [
    "print(np.zeros(3, 3))"
   ]
  },
  {
   "cell_type": "markdown",
   "id": "c65b32c9",
   "metadata": {},
   "source": [
    "**(0.5 балла)** А тут-то чего не так...."
   ]
  },
  {
   "cell_type": "code",
   "execution_count": 16,
   "id": "f63b22f6",
   "metadata": {},
   "outputs": [
    {
     "ename": "TypeError",
     "evalue": "'tuple' object is not callable",
     "output_type": "error",
     "traceback": [
      "\u001b[0;31m---------------------------------------------------------------------------\u001b[0m",
      "\u001b[0;31mTypeError\u001b[0m                                 Traceback (most recent call last)",
      "Cell \u001b[0;32mIn[16], line 4\u001b[0m\n\u001b[1;32m      1\u001b[0m A \u001b[38;5;241m=\u001b[39m np\u001b[38;5;241m.\u001b[39marray([[\u001b[38;5;241m1\u001b[39m, \u001b[38;5;241m1\u001b[39m, \u001b[38;5;241m1\u001b[39m],\n\u001b[1;32m      2\u001b[0m               [\u001b[38;5;241m2\u001b[39m, \u001b[38;5;241m2\u001b[39m, \u001b[38;5;241m2\u001b[39m],\n\u001b[1;32m      3\u001b[0m               [\u001b[38;5;241m3\u001b[39m, \u001b[38;5;241m3\u001b[39m ,\u001b[38;5;241m3\u001b[39m]])\n\u001b[0;32m----> 4\u001b[0m \u001b[38;5;28mprint\u001b[39m(A\u001b[38;5;241m.\u001b[39mshape())\n",
      "\u001b[0;31mTypeError\u001b[0m: 'tuple' object is not callable"
     ]
    }
   ],
   "source": [
    "A = np.array([[1, 1, 1],\n",
    "              [2, 2, 2],\n",
    "              [3, 3 ,3]])\n",
    "print(A.shape())"
   ]
  },
  {
   "cell_type": "markdown",
   "id": "79f1146b",
   "metadata": {},
   "source": [
    "**(0.75 балла)** Да хватит уже блин когда это уже закончится помогите (найдите ошибку)\n"
   ]
  },
  {
   "cell_type": "code",
   "execution_count": 18,
   "id": "a9d4a946",
   "metadata": {},
   "outputs": [
    {
     "ename": "ValueError",
     "evalue": "operands could not be broadcast together with shapes (200,) (300,) ",
     "output_type": "error",
     "traceback": [
      "\u001b[0;31m---------------------------------------------------------------------------\u001b[0m",
      "\u001b[0;31mValueError\u001b[0m                                Traceback (most recent call last)",
      "Cell \u001b[0;32mIn[18], line 4\u001b[0m\n\u001b[1;32m      1\u001b[0m lat \u001b[38;5;241m=\u001b[39m np\u001b[38;5;241m.\u001b[39marange(\u001b[38;5;241m20\u001b[39m, \u001b[38;5;241m40\u001b[39m, \u001b[38;5;241m0.1\u001b[39m)\n\u001b[1;32m      2\u001b[0m lon \u001b[38;5;241m=\u001b[39m np\u001b[38;5;241m.\u001b[39marange(\u001b[38;5;241m-\u001b[39m\u001b[38;5;241m30\u001b[39m, \u001b[38;5;241m30\u001b[39m, \u001b[38;5;241m0.2\u001b[39m)\n\u001b[0;32m----> 4\u001b[0m \u001b[38;5;28mprint\u001b[39m(np\u001b[38;5;241m.\u001b[39msqrt(lat\u001b[38;5;241m*\u001b[39m\u001b[38;5;241m*\u001b[39m\u001b[38;5;241m2\u001b[39m \u001b[38;5;241m+\u001b[39m lon\u001b[38;5;241m*\u001b[39m\u001b[38;5;241m*\u001b[39m\u001b[38;5;241m2\u001b[39m))\n",
      "\u001b[0;31mValueError\u001b[0m: operands could not be broadcast together with shapes (200,) (300,) "
     ]
    }
   ],
   "source": [
    "lat = np.arange(20, 40, 0.1)\n",
    "lon = np.arange(-30, 30, 0.2)\n",
    "\n",
    "print(np.sqrt(lat**2 + lon**2)) "
   ]
  },
  {
   "cell_type": "markdown",
   "id": "ba63bd35",
   "metadata": {},
   "source": [
    "### Ура данные\n",
    "\n",
    "Выполните строчку ниже:"
   ]
  },
  {
   "cell_type": "code",
   "execution_count": 25,
   "id": "d6d9fb17",
   "metadata": {},
   "outputs": [],
   "source": [
    "temps = np.loadtxt('data/temps.txt')"
   ]
  },
  {
   "cell_type": "markdown",
   "id": "4db6eacb",
   "metadata": {},
   "source": [
    "Это датасет, который я давал как один из примеров работы с проектами. Я немного обрезал его так, чтобы он удобно читался.\n",
    "\n",
    "Он состоит из нескольких столбцов, разделенных пробелами. После считывания ее функцией `np.loadtxt` получаем матрицу размера `2089 x 12`:"
   ]
  },
  {
   "cell_type": "code",
   "execution_count": 21,
   "id": "1412c1e1",
   "metadata": {},
   "outputs": [
    {
     "data": {
      "text/plain": [
       "(2089, 12)"
      ]
     },
     "execution_count": 21,
     "metadata": {},
     "output_type": "execute_result"
    }
   ],
   "source": [
    "temps.shape"
   ]
  },
  {
   "cell_type": "markdown",
   "id": "9f557581",
   "metadata": {},
   "source": [
    "(**0.75 балла**) Сделайте новые переменные `year` и `month`, которые будут равные нулевому и первому столбцу данных соотвественно."
   ]
  },
  {
   "cell_type": "code",
   "execution_count": 22,
   "id": "2efd1518",
   "metadata": {},
   "outputs": [],
   "source": [
    "# Ваш код"
   ]
  },
  {
   "cell_type": "markdown",
   "id": "daefa4ee",
   "metadata": {},
   "source": [
    "(**0.75 балла**) Мы могли бы запись дату вот так:\n",
    "\n",
    "\n",
    "`time = year + month/12`\n",
    "\n",
    "Таким образом, март 1871 будет `1871 + 3/12 = 1871.25`. Сделайте новую переменную `t` из двух столбцов `year` и `month`. `t.shape` должен быть равен `(2089,)` или `(2089, 1)`."
   ]
  },
  {
   "cell_type": "code",
   "execution_count": 31,
   "id": "57f011c3",
   "metadata": {},
   "outputs": [],
   "source": [
    "# Ваш код"
   ]
  },
  {
   "cell_type": "markdown",
   "id": "cd1dae4a",
   "metadata": {},
   "source": [
    "### Перенормировка \n",
    "\n",
    "(**0.5 балла**) Сгенерируйте вектор нормально распредленных данных длиной `100` со средним `μ = 1` и стандартным отклонением `σ = 2`:"
   ]
  },
  {
   "cell_type": "code",
   "execution_count": 32,
   "id": "ee007c90",
   "metadata": {},
   "outputs": [],
   "source": [
    "# Ваш код"
   ]
  },
  {
   "cell_type": "markdown",
   "id": "835d4ba7",
   "metadata": {},
   "source": [
    "(**1.25 балла**) [Отнормируйте](https://en.wikipedia.org/wiki/Feature_scaling) данные так, чтобы они лежали от нуля до единицы:"
   ]
  },
  {
   "cell_type": "markdown",
   "id": "5be5191e",
   "metadata": {},
   "source": [
    "<p>\n",
    "<details>\n",
    "<summary> <u> Подсказка </u> </summary>\n",
    "\n",
    "Вычтите из данных минимальное значение и поделите на разницу максимального и минимального значения.\n",
    "    \n",
    "</details>\n",
    "</p>"
   ]
  },
  {
   "cell_type": "code",
   "execution_count": 33,
   "id": "63ad8cff",
   "metadata": {},
   "outputs": [],
   "source": [
    "# Ваш код"
   ]
  },
  {
   "cell_type": "markdown",
   "id": "98f92b07",
   "metadata": {},
   "source": [
    "✨ (**1.25 балла**) Сгенерируйте вектор равномерно распредленных данных от нуля до пяти длиной `100`. Отнормируйте данные согласно [z-оценке](https://ru.wikipedia.org/wiki/Z-%D0%BE%D1%86%D0%B5%D0%BD%D0%BA%D0%B0) со средним в `0` и стандартным отклонением `1`:"
   ]
  },
  {
   "cell_type": "code",
   "execution_count": 34,
   "id": "7c4ee51c",
   "metadata": {},
   "outputs": [],
   "source": [
    "# Ваш код"
   ]
  },
  {
   "cell_type": "markdown",
   "id": "a4072ff9",
   "metadata": {},
   "source": [
    "### Редкая гадость\n",
    "\n",
    "✨✨✨ (**Без балла**) Реализуйте [метод Гаусса](https://ru.wikipedia.org/wiki/%D0%9C%D0%B5%D1%82%D0%BE%D0%B4_%D0%93%D0%B0%D1%83%D1%81%D1%81%D0%B0) с помощью `numpy`. "
   ]
  },
  {
   "cell_type": "code",
   "execution_count": null,
   "id": "a0c45eb7",
   "metadata": {},
   "outputs": [],
   "source": [
    "# Ваш код"
   ]
  }
 ],
 "metadata": {
  "kernelspec": {
   "display_name": "Python 3 (ipykernel)",
   "language": "python",
   "name": "python3"
  },
  "language_info": {
   "codemirror_mode": {
    "name": "ipython",
    "version": 3
   },
   "file_extension": ".py",
   "mimetype": "text/x-python",
   "name": "python",
   "nbconvert_exporter": "python",
   "pygments_lexer": "ipython3",
   "version": "3.11.5"
  }
 },
 "nbformat": 4,
 "nbformat_minor": 5
}
